{
 "cells": [
  {
   "cell_type": "code",
   "execution_count": 5,
   "id": "68b4f6fd-50b7-4030-b877-5cabbac15f8e",
   "metadata": {},
   "outputs": [],
   "source": [
    "# normalize the pixel values -> to be done in dataset_module when reading the image\n",
    "\n",
    "\n",
    "from skimage import io #numpy array\n",
    "import imageio\n",
    "from torchvision.io import read_image\n",
    "from torchvision.transforms import ToTensor\n",
    "\n",
    "#new imports\n",
    "import cv2\n",
    "import numpy as np \n"
   ]
  },
  {
   "cell_type": "markdown",
   "id": "725c7480-5096-4398-ab79-24969fbc41e4",
   "metadata": {},
   "source": [
    "#### mean subtraction and division by standard deviation using the OpenCV library in Python:"
   ]
  },
  {
   "cell_type": "code",
   "execution_count": 8,
   "id": "d5d9262f-3771-47f9-988b-43fe5af6932e",
   "metadata": {
    "collapsed": true,
    "jupyter": {
     "outputs_hidden": true
    },
    "tags": []
   },
   "outputs": [
    {
     "ename": "NameError",
     "evalue": "name 'cv2' is not defined",
     "output_type": "error",
     "traceback": [
      "\u001b[0;31m---------------------------------------------------------------------------\u001b[0m",
      "\u001b[0;31mNameError\u001b[0m                                 Traceback (most recent call last)",
      "Cell \u001b[0;32mIn[8], line 2\u001b[0m\n\u001b[1;32m      1\u001b[0m img_as_np_array\u001b[38;5;241m=\u001b[39mnp\u001b[38;5;241m.\u001b[39masarray((io\u001b[38;5;241m.\u001b[39mimread(\u001b[38;5;124m'\u001b[39m\u001b[38;5;124m./dataset/test/img/IMG_062207.tif\u001b[39m\u001b[38;5;124m'\u001b[39m)))\n\u001b[0;32m----> 2\u001b[0m mean, std \u001b[38;5;241m=\u001b[39m \u001b[43mcv2\u001b[49m\u001b[38;5;241m.\u001b[39mmeanStdDev(img_as_np_array)\n\u001b[1;32m      3\u001b[0m img_as_np_array \u001b[38;5;241m=\u001b[39m (img_as_np_array \u001b[38;5;241m-\u001b[39m mean) \u001b[38;5;241m/\u001b[39m std\n\u001b[1;32m      4\u001b[0m img\u001b[38;5;241m=\u001b[39mToTensor()(img_as_np_array)\n",
      "\u001b[0;31mNameError\u001b[0m: name 'cv2' is not defined"
     ]
    }
   ],
   "source": [
    "import cv2\n",
    "import numpy as np \n",
    "\n",
    "img_path\n",
    "img_as_np_array=np.asarray((io.imread(img_path)))\n",
    "mean, std = cv2.meanStdDev(img_as_np_array)\n",
    "img_as_np_array = (img_as_np_array - mean) / std\n",
    "img=ToTensor()(img_as_np_array)\n"
   ]
  },
  {
   "cell_type": "markdown",
   "id": "4c1e7f9d-2346-4ab6-a472-61339fd74c56",
   "metadata": {},
   "source": [
    "#### min max using numpy"
   ]
  },
  {
   "cell_type": "code",
   "execution_count": null,
   "id": "e1a1d874-1dfc-452b-a1c8-8391e4b266f4",
   "metadata": {},
   "outputs": [],
   "source": [
    "import numpy as np\n",
    "\n",
    "X=np.asarray((io.imread(img_path)))\n",
    "X = (X - X.min()) / (X.max() - X.min())"
   ]
  }
 ],
 "metadata": {
  "kernelspec": {
   "display_name": "venv",
   "language": "python",
   "name": "venv"
  },
  "language_info": {
   "codemirror_mode": {
    "name": "ipython",
    "version": 3
   },
   "file_extension": ".py",
   "mimetype": "text/x-python",
   "name": "python",
   "nbconvert_exporter": "python",
   "pygments_lexer": "ipython3",
   "version": "3.10.9"
  }
 },
 "nbformat": 4,
 "nbformat_minor": 5
}
